{
 "cells": [
  {
   "cell_type": "code",
   "execution_count": 1,
   "id": "c91b53d7",
   "metadata": {},
   "outputs": [],
   "source": [
    "import pandas as pd\n",
    "import numpy as np"
   ]
  },
  {
   "cell_type": "code",
   "execution_count": 2,
   "id": "4db1d80a",
   "metadata": {},
   "outputs": [],
   "source": [
    "file=pd.DataFrame({'Depth': [0, 1000, 2000, 3000, 4000, 5000, 6000, 7000, 8000, 9000],\n",
    " 'Shale_pressure_gradient': [0.45,0.45, 0.45,0.46,0.48,0.51,0.55,0.61,0.68,0.76],\n",
    " 'Fracture_pressure_gradient': [0.45,0.5,0.60,0.69,0.75,0.78,0.81,0.83,0.84,0.85]})"
   ]
  },
  {
   "cell_type": "code",
   "execution_count": 3,
   "id": "bbee2c6e",
   "metadata": {},
   "outputs": [
    {
     "data": {
      "text/html": [
       "<div>\n",
       "<style scoped>\n",
       "    .dataframe tbody tr th:only-of-type {\n",
       "        vertical-align: middle;\n",
       "    }\n",
       "\n",
       "    .dataframe tbody tr th {\n",
       "        vertical-align: top;\n",
       "    }\n",
       "\n",
       "    .dataframe thead th {\n",
       "        text-align: right;\n",
       "    }\n",
       "</style>\n",
       "<table border=\"1\" class=\"dataframe\">\n",
       "  <thead>\n",
       "    <tr style=\"text-align: right;\">\n",
       "      <th></th>\n",
       "      <th>Depth</th>\n",
       "      <th>Shale_pressure_gradient</th>\n",
       "      <th>Fracture_pressure_gradient</th>\n",
       "    </tr>\n",
       "  </thead>\n",
       "  <tbody>\n",
       "    <tr>\n",
       "      <th>0</th>\n",
       "      <td>0</td>\n",
       "      <td>0.45</td>\n",
       "      <td>0.45</td>\n",
       "    </tr>\n",
       "    <tr>\n",
       "      <th>1</th>\n",
       "      <td>1000</td>\n",
       "      <td>0.45</td>\n",
       "      <td>0.50</td>\n",
       "    </tr>\n",
       "    <tr>\n",
       "      <th>2</th>\n",
       "      <td>2000</td>\n",
       "      <td>0.45</td>\n",
       "      <td>0.60</td>\n",
       "    </tr>\n",
       "    <tr>\n",
       "      <th>3</th>\n",
       "      <td>3000</td>\n",
       "      <td>0.46</td>\n",
       "      <td>0.69</td>\n",
       "    </tr>\n",
       "    <tr>\n",
       "      <th>4</th>\n",
       "      <td>4000</td>\n",
       "      <td>0.48</td>\n",
       "      <td>0.75</td>\n",
       "    </tr>\n",
       "  </tbody>\n",
       "</table>\n",
       "</div>"
      ],
      "text/plain": [
       "   Depth  Shale_pressure_gradient  Fracture_pressure_gradient\n",
       "0      0                     0.45                        0.45\n",
       "1   1000                     0.45                        0.50\n",
       "2   2000                     0.45                        0.60\n",
       "3   3000                     0.46                        0.69\n",
       "4   4000                     0.48                        0.75"
      ]
     },
     "execution_count": 3,
     "metadata": {},
     "output_type": "execute_result"
    }
   ],
   "source": [
    "file.head()"
   ]
  },
  {
   "cell_type": "code",
   "execution_count": 4,
   "id": "8a2a638d",
   "metadata": {},
   "outputs": [],
   "source": [
    "file['Fracture_pressure']=file.Depth*file.Fracture_pressure_gradient\n",
    "file['Shale_pressure']=file.Depth*file.Shale_pressure_gradient\n",
    "file['gas_pressure']=4270-(7000-file.Depth)*0.2\n",
    "file['water_pressure']=4270-(7000-file.Depth)*0.46\n",
    "file['gass_pressure_at_6000']=3300-(6000-file.Depth)*0.2\n",
    "file['gas_pressure_at_8000']=5440-(8000-file.Depth)*0.2"
   ]
  },
  {
   "cell_type": "code",
   "execution_count": 5,
   "id": "d44bd4dc",
   "metadata": {},
   "outputs": [
    {
     "data": {
      "text/html": [
       "<div>\n",
       "<style scoped>\n",
       "    .dataframe tbody tr th:only-of-type {\n",
       "        vertical-align: middle;\n",
       "    }\n",
       "\n",
       "    .dataframe tbody tr th {\n",
       "        vertical-align: top;\n",
       "    }\n",
       "\n",
       "    .dataframe thead th {\n",
       "        text-align: right;\n",
       "    }\n",
       "</style>\n",
       "<table border=\"1\" class=\"dataframe\">\n",
       "  <thead>\n",
       "    <tr style=\"text-align: right;\">\n",
       "      <th></th>\n",
       "      <th>Depth</th>\n",
       "      <th>Shale_pressure_gradient</th>\n",
       "      <th>Fracture_pressure_gradient</th>\n",
       "      <th>Fracture_pressure</th>\n",
       "      <th>Shale_pressure</th>\n",
       "      <th>gas_pressure</th>\n",
       "      <th>water_pressure</th>\n",
       "      <th>gass_pressure_at_6000</th>\n",
       "      <th>gas_pressure_at_8000</th>\n",
       "    </tr>\n",
       "  </thead>\n",
       "  <tbody>\n",
       "    <tr>\n",
       "      <th>0</th>\n",
       "      <td>0</td>\n",
       "      <td>0.45</td>\n",
       "      <td>0.45</td>\n",
       "      <td>0.0</td>\n",
       "      <td>0.0</td>\n",
       "      <td>2870.0</td>\n",
       "      <td>1050.0</td>\n",
       "      <td>2100.0</td>\n",
       "      <td>3840.0</td>\n",
       "    </tr>\n",
       "    <tr>\n",
       "      <th>1</th>\n",
       "      <td>1000</td>\n",
       "      <td>0.45</td>\n",
       "      <td>0.50</td>\n",
       "      <td>500.0</td>\n",
       "      <td>450.0</td>\n",
       "      <td>3070.0</td>\n",
       "      <td>1510.0</td>\n",
       "      <td>2300.0</td>\n",
       "      <td>4040.0</td>\n",
       "    </tr>\n",
       "    <tr>\n",
       "      <th>2</th>\n",
       "      <td>2000</td>\n",
       "      <td>0.45</td>\n",
       "      <td>0.60</td>\n",
       "      <td>1200.0</td>\n",
       "      <td>900.0</td>\n",
       "      <td>3270.0</td>\n",
       "      <td>1970.0</td>\n",
       "      <td>2500.0</td>\n",
       "      <td>4240.0</td>\n",
       "    </tr>\n",
       "    <tr>\n",
       "      <th>3</th>\n",
       "      <td>3000</td>\n",
       "      <td>0.46</td>\n",
       "      <td>0.69</td>\n",
       "      <td>2070.0</td>\n",
       "      <td>1380.0</td>\n",
       "      <td>3470.0</td>\n",
       "      <td>2430.0</td>\n",
       "      <td>2700.0</td>\n",
       "      <td>4440.0</td>\n",
       "    </tr>\n",
       "    <tr>\n",
       "      <th>4</th>\n",
       "      <td>4000</td>\n",
       "      <td>0.48</td>\n",
       "      <td>0.75</td>\n",
       "      <td>3000.0</td>\n",
       "      <td>1920.0</td>\n",
       "      <td>3670.0</td>\n",
       "      <td>2890.0</td>\n",
       "      <td>2900.0</td>\n",
       "      <td>4640.0</td>\n",
       "    </tr>\n",
       "    <tr>\n",
       "      <th>5</th>\n",
       "      <td>5000</td>\n",
       "      <td>0.51</td>\n",
       "      <td>0.78</td>\n",
       "      <td>3900.0</td>\n",
       "      <td>2550.0</td>\n",
       "      <td>3870.0</td>\n",
       "      <td>3350.0</td>\n",
       "      <td>3100.0</td>\n",
       "      <td>4840.0</td>\n",
       "    </tr>\n",
       "    <tr>\n",
       "      <th>6</th>\n",
       "      <td>6000</td>\n",
       "      <td>0.55</td>\n",
       "      <td>0.81</td>\n",
       "      <td>4860.0</td>\n",
       "      <td>3300.0</td>\n",
       "      <td>4070.0</td>\n",
       "      <td>3810.0</td>\n",
       "      <td>3300.0</td>\n",
       "      <td>5040.0</td>\n",
       "    </tr>\n",
       "    <tr>\n",
       "      <th>7</th>\n",
       "      <td>7000</td>\n",
       "      <td>0.61</td>\n",
       "      <td>0.83</td>\n",
       "      <td>5810.0</td>\n",
       "      <td>4270.0</td>\n",
       "      <td>4270.0</td>\n",
       "      <td>4270.0</td>\n",
       "      <td>3500.0</td>\n",
       "      <td>5240.0</td>\n",
       "    </tr>\n",
       "    <tr>\n",
       "      <th>8</th>\n",
       "      <td>8000</td>\n",
       "      <td>0.68</td>\n",
       "      <td>0.84</td>\n",
       "      <td>6720.0</td>\n",
       "      <td>5440.0</td>\n",
       "      <td>4470.0</td>\n",
       "      <td>4730.0</td>\n",
       "      <td>3700.0</td>\n",
       "      <td>5440.0</td>\n",
       "    </tr>\n",
       "    <tr>\n",
       "      <th>9</th>\n",
       "      <td>9000</td>\n",
       "      <td>0.76</td>\n",
       "      <td>0.85</td>\n",
       "      <td>7650.0</td>\n",
       "      <td>6840.0</td>\n",
       "      <td>4670.0</td>\n",
       "      <td>5190.0</td>\n",
       "      <td>3900.0</td>\n",
       "      <td>5640.0</td>\n",
       "    </tr>\n",
       "  </tbody>\n",
       "</table>\n",
       "</div>"
      ],
      "text/plain": [
       "   Depth  Shale_pressure_gradient  Fracture_pressure_gradient  \\\n",
       "0      0                     0.45                        0.45   \n",
       "1   1000                     0.45                        0.50   \n",
       "2   2000                     0.45                        0.60   \n",
       "3   3000                     0.46                        0.69   \n",
       "4   4000                     0.48                        0.75   \n",
       "5   5000                     0.51                        0.78   \n",
       "6   6000                     0.55                        0.81   \n",
       "7   7000                     0.61                        0.83   \n",
       "8   8000                     0.68                        0.84   \n",
       "9   9000                     0.76                        0.85   \n",
       "\n",
       "   Fracture_pressure  Shale_pressure  gas_pressure  water_pressure  \\\n",
       "0                0.0             0.0        2870.0          1050.0   \n",
       "1              500.0           450.0        3070.0          1510.0   \n",
       "2             1200.0           900.0        3270.0          1970.0   \n",
       "3             2070.0          1380.0        3470.0          2430.0   \n",
       "4             3000.0          1920.0        3670.0          2890.0   \n",
       "5             3900.0          2550.0        3870.0          3350.0   \n",
       "6             4860.0          3300.0        4070.0          3810.0   \n",
       "7             5810.0          4270.0        4270.0          4270.0   \n",
       "8             6720.0          5440.0        4470.0          4730.0   \n",
       "9             7650.0          6840.0        4670.0          5190.0   \n",
       "\n",
       "   gass_pressure_at_6000  gas_pressure_at_8000  \n",
       "0                 2100.0                3840.0  \n",
       "1                 2300.0                4040.0  \n",
       "2                 2500.0                4240.0  \n",
       "3                 2700.0                4440.0  \n",
       "4                 2900.0                4640.0  \n",
       "5                 3100.0                4840.0  \n",
       "6                 3300.0                5040.0  \n",
       "7                 3500.0                5240.0  \n",
       "8                 3700.0                5440.0  \n",
       "9                 3900.0                5640.0  "
      ]
     },
     "execution_count": 5,
     "metadata": {},
     "output_type": "execute_result"
    }
   ],
   "source": [
    "file"
   ]
  },
  {
   "cell_type": "code",
   "execution_count": 6,
   "id": "213ae505",
   "metadata": {},
   "outputs": [],
   "source": [
    "import matplotlib.pyplot as plt\n",
    "import seaborn as sns"
   ]
  },
  {
   "cell_type": "code",
   "execution_count": 7,
   "id": "37e9d63a",
   "metadata": {},
   "outputs": [
    {
     "data": {
      "text/html": [
       "<div>\n",
       "<style scoped>\n",
       "    .dataframe tbody tr th:only-of-type {\n",
       "        vertical-align: middle;\n",
       "    }\n",
       "\n",
       "    .dataframe tbody tr th {\n",
       "        vertical-align: top;\n",
       "    }\n",
       "\n",
       "    .dataframe thead th {\n",
       "        text-align: right;\n",
       "    }\n",
       "</style>\n",
       "<table border=\"1\" class=\"dataframe\">\n",
       "  <thead>\n",
       "    <tr style=\"text-align: right;\">\n",
       "      <th></th>\n",
       "      <th>gas_pressure</th>\n",
       "      <th>depth</th>\n",
       "    </tr>\n",
       "  </thead>\n",
       "  <tbody>\n",
       "    <tr>\n",
       "      <th>0</th>\n",
       "      <td>3870.0</td>\n",
       "      <td>5000</td>\n",
       "    </tr>\n",
       "    <tr>\n",
       "      <th>1</th>\n",
       "      <td>4070.0</td>\n",
       "      <td>6000</td>\n",
       "    </tr>\n",
       "    <tr>\n",
       "      <th>2</th>\n",
       "      <td>4270.0</td>\n",
       "      <td>7000</td>\n",
       "    </tr>\n",
       "  </tbody>\n",
       "</table>\n",
       "</div>"
      ],
      "text/plain": [
       "   gas_pressure  depth\n",
       "0        3870.0   5000\n",
       "1        4070.0   6000\n",
       "2        4270.0   7000"
      ]
     },
     "execution_count": 7,
     "metadata": {},
     "output_type": "execute_result"
    }
   ],
   "source": [
    "first_centeroid=pd.DataFrame({'gas_pressure':[3870.0,4070.0,4270.0],\n",
    "            'depth':[ 5000,6000,7000]})\n",
    "first_centeroid"
   ]
  },
  {
   "cell_type": "code",
   "execution_count": 8,
   "id": "9f3a2894",
   "metadata": {},
   "outputs": [
    {
     "data": {
      "text/plain": [
       "5    5000\n",
       "6    6000\n",
       "7    7000\n",
       "Name: Depth, dtype: int64"
      ]
     },
     "execution_count": 8,
     "metadata": {},
     "output_type": "execute_result"
    }
   ],
   "source": [
    "file.Depth[5:8]"
   ]
  },
  {
   "cell_type": "code",
   "execution_count": 9,
   "id": "51228a56",
   "metadata": {},
   "outputs": [
    {
     "data": {
      "text/plain": [
       "[3350.0, 3810.0, 4270.0, 4730.0]"
      ]
     },
     "execution_count": 9,
     "metadata": {},
     "output_type": "execute_result"
    }
   ],
   "source": [
    "file.water_pressure[5:9].to_list()"
   ]
  },
  {
   "cell_type": "code",
   "execution_count": 10,
   "id": "14d4c4d8",
   "metadata": {},
   "outputs": [
    {
     "data": {
      "text/html": [
       "<div>\n",
       "<style scoped>\n",
       "    .dataframe tbody tr th:only-of-type {\n",
       "        vertical-align: middle;\n",
       "    }\n",
       "\n",
       "    .dataframe tbody tr th {\n",
       "        vertical-align: top;\n",
       "    }\n",
       "\n",
       "    .dataframe thead th {\n",
       "        text-align: right;\n",
       "    }\n",
       "</style>\n",
       "<table border=\"1\" class=\"dataframe\">\n",
       "  <thead>\n",
       "    <tr style=\"text-align: right;\">\n",
       "      <th></th>\n",
       "      <th>water_pressure</th>\n",
       "      <th>Depth</th>\n",
       "    </tr>\n",
       "  </thead>\n",
       "  <tbody>\n",
       "    <tr>\n",
       "      <th>0</th>\n",
       "      <td>3350.0</td>\n",
       "      <td>5000</td>\n",
       "    </tr>\n",
       "    <tr>\n",
       "      <th>1</th>\n",
       "      <td>3810.0</td>\n",
       "      <td>6000</td>\n",
       "    </tr>\n",
       "    <tr>\n",
       "      <th>2</th>\n",
       "      <td>4270.0</td>\n",
       "      <td>7000</td>\n",
       "    </tr>\n",
       "    <tr>\n",
       "      <th>3</th>\n",
       "      <td>4730.0</td>\n",
       "      <td>8000</td>\n",
       "    </tr>\n",
       "  </tbody>\n",
       "</table>\n",
       "</div>"
      ],
      "text/plain": [
       "   water_pressure  Depth\n",
       "0          3350.0   5000\n",
       "1          3810.0   6000\n",
       "2          4270.0   7000\n",
       "3          4730.0   8000"
      ]
     },
     "execution_count": 10,
     "metadata": {},
     "output_type": "execute_result"
    }
   ],
   "source": [
    "water=pd.DataFrame({'water_pressure':[3350.0, 3810.0, 4270.0, 4730.0],\n",
    "                    'Depth':[5000, 6000, 7000, 8000]})\n",
    "water"
   ]
  },
  {
   "cell_type": "code",
   "execution_count": 11,
   "id": "62aa62ee",
   "metadata": {},
   "outputs": [
    {
     "data": {
      "text/plain": [
       "[2900.0, 3100.0, 3300.0]"
      ]
     },
     "execution_count": 11,
     "metadata": {},
     "output_type": "execute_result"
    }
   ],
   "source": [
    "file.gass_pressure_at_6000[4:7].to_list()"
   ]
  },
  {
   "cell_type": "code",
   "execution_count": 12,
   "id": "b1ea5bff",
   "metadata": {},
   "outputs": [],
   "source": [
    "gas600=pd.DataFrame({'gas_pre':[2900.0, 3100.0, 3300.0],\n",
    "                    'Depth':[4000, 5000, 6000]})"
   ]
  },
  {
   "cell_type": "code",
   "execution_count": 13,
   "id": "d995d64c",
   "metadata": {},
   "outputs": [
    {
     "data": {
      "text/plain": [
       "[5040.0, 5240.0, 5440.0]"
      ]
     },
     "execution_count": 13,
     "metadata": {},
     "output_type": "execute_result"
    }
   ],
   "source": [
    "file.gas_pressure_at_8000[6:9].to_list()"
   ]
  },
  {
   "cell_type": "code",
   "execution_count": 14,
   "id": "58f991a3",
   "metadata": {},
   "outputs": [],
   "source": [
    "gas800=pd.DataFrame({'gas_pre':[5040.0, 5240.0, 5440.0],\n",
    "                    'Depth':[6000, 7000, 8000]})"
   ]
  },
  {
   "cell_type": "code",
   "execution_count": 27,
   "id": "48c95604",
   "metadata": {},
   "outputs": [
    {
     "data": {
      "image/png": "[encoded data removed]",
      "text/plain": [
       "<Figure size 640x480 with 1 Axes>"
      ]
     },
     "metadata": {},
     "output_type": "display_data"
    }
   ],
   "source": [
    "sns.lineplot(y='Depth',x='Fracture_pressure',data=file,label='fracture_pressure',linestyle='--',color='orange')\n",
    "sns.lineplot(y='Depth',x='Shale_pressure',data=file,label='Shale_pressure',color='green')\n",
    "sns.lineplot(x='gas_pressure',y='depth',data=first_centeroid,label='Gas_pressure',color='red')\n",
    "sns.lineplot(x='gas_pre',y='Depth',data=gas600,linestyle='--',color='black')\n",
    "sns.lineplot(x='gas_pre',y='Depth',data=gas800,linestyle='--',color='black')\n",
    "sns.lineplot(x='water_pressure',y='Depth',data=water,color='blue',linestyle='--',label='water')\n",
    "plt.gca().invert_yaxis()\n",
    "plt.xlabel('Pressure(psi)')\n",
    "plt.ylabel('Depth(ft)')\n",
    "plt.show()"
   ]
  },
  {
   "cell_type": "code",
   "execution_count": null,
   "id": "ae15e46e",
   "metadata": {},
   "outputs": [],
   "source": []
  },
  {
   "cell_type": "code",
   "execution_count": null,
   "id": "b4fce8af",
   "metadata": {},
   "outputs": [],
   "source": []
  }
 ],
 "metadata": {
  "kernelspec": {
   "display_name": "Python 3",
   "language": "python",
   "name": "python3"
  },
  "language_info": {
   "codemirror_mode": {
    "name": "ipython",
    "version": 3
   },
   "file_extension": ".py",
   "mimetype": "text/x-python",
   "name": "python",
   "nbconvert_exporter": "python",
   "pygments_lexer": "ipython3",
   "version": "3.8.11"
  }
 },
 "nbformat": 4,
 "nbformat_minor": 5
}
